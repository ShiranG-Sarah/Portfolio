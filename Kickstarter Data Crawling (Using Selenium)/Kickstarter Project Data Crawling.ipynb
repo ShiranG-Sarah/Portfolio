{
 "cells": [
  {
   "cell_type": "code",
   "execution_count": null,
   "metadata": {},
   "outputs": [],
   "source": [
    "from selenium.common.exceptions import NoSuchElementException, ElementClickInterceptedException\n",
    "from selenium import webdriver\n",
    "from selenium.webdriver.support import expected_conditions as EC\n",
    "from selenium.webdriver.common.by import By\n",
    "from selenium.webdriver.common.keys import Keys\n",
    "import time\n",
    "import pandas as pd\n",
    "import random\n",
    "import requests\n",
    "import eventlet"
   ]
  },
  {
   "cell_type": "code",
   "execution_count": null,
   "metadata": {},
   "outputs": [],
   "source": [
    "# Launch Chromedriver\n",
    "# You need to change the executable_path to where you installed your Chromedriver\n",
    "options = webdriver.ChromeOptions()\n",
    "driver = webdriver.Chrome(executable_path='C:/Program Files (x86)/Google/Chrome/Application/chromedriver', options=options)"
   ]
  },
  {
   "cell_type": "code",
   "execution_count": null,
   "metadata": {},
   "outputs": [],
   "source": [
    "# Creat one list for each variable you need to crawl\n",
    "storyList = []\n",
    "pictureList = []\n",
    "QAList = []\n",
    "commentList = []\n",
    "updateList = []"
   ]
  },
  {
   "cell_type": "code",
   "execution_count": null,
   "metadata": {},
   "outputs": [],
   "source": [
    "# Crawl data from web pages\n",
    "# You need to change the xpath parameter for your variables\n",
    "\n",
    "for u in urlList: # The url list you need to crawl\n",
    "    driver.get(u)\n",
    "    time.sleep(2)\n",
    "    \n",
    "    try:\n",
    "        story = driver.find_element_by_xpath('//*[@id=\"react-campaign\"]/section/div/div/div/div[1]/div/div').text\n",
    "    except:\n",
    "        time.sleep(60)\n",
    "        driver.refresh()\n",
    "        time.sleep(2)\n",
    "        story = driver.find_element_by_xpath('//*[@id=\"react-campaign\"]/section/div/div/div/div[1]/div/div').text\n",
    "    storyList.append(story)\n",
    "    \n",
    "    try:\n",
    "        picture = driver.find_element_by_xpath('//*[@class=\"template asset\"]')\n",
    "        picture = 1\n",
    "    except:\n",
    "        picture = 0\n",
    "    pictureList.append(picture)\n",
    "        \n",
    "    try:\n",
    "        QA = driver.find_element_by_xpath('//*[@id=\"faq-emoji\"]/span').text\n",
    "        QA = 1\n",
    "    except:\n",
    "        QA = 0\n",
    "    QAList.append(QA)\n",
    "    \n",
    "    try:\n",
    "        update = driver.find_element_by_xpath('//*[@id=\"updates-emoji\"]/span').text\n",
    "    except:\n",
    "        update = 0\n",
    "    updateList.append(update)\n",
    "\n",
    "    try:\n",
    "        comment = driver.find_element_by_xpath('//*[@id=\"comments-emoji\"]/span/data').text\n",
    "    except:\n",
    "        comment = 0\n",
    "    commentList.append(comment)  "
   ]
  },
  {
   "cell_type": "code",
   "execution_count": null,
   "metadata": {},
   "outputs": [],
   "source": [
    "# Creat a dataframe and save the result to a csv file\n",
    "dic = {'url':urlList, 'story':storyList, 'picture':pictureList, 'Q&A':QAList, 'comment':commentList, 'update':updateList}\n",
    "df=pd.DataFrame(dic)\n",
    "df.to_csv('Result.csv', index = False)"
   ]
  }
 ],
 "metadata": {
  "kernelspec": {
   "display_name": "Python 3",
   "language": "python",
   "name": "python3"
  },
  "language_info": {
   "codemirror_mode": {
    "name": "ipython",
    "version": 3
   },
   "file_extension": ".py",
   "mimetype": "text/x-python",
   "name": "python",
   "nbconvert_exporter": "python",
   "pygments_lexer": "ipython3",
   "version": "3.8.3"
  }
 },
 "nbformat": 4,
 "nbformat_minor": 4
}
