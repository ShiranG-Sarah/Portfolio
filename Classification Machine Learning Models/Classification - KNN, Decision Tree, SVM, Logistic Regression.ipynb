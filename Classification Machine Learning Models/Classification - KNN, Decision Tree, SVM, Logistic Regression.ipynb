{
 "cells": [
  {
   "cell_type": "markdown",
   "metadata": {},
   "source": [
    "# Data Preprocessing"
   ]
  },
  {
   "cell_type": "code",
   "execution_count": 1,
   "metadata": {},
   "outputs": [],
   "source": [
    "import itertools\n",
    "import numpy as np\n",
    "import matplotlib.pyplot as plt\n",
    "from matplotlib.ticker import NullFormatter\n",
    "import pandas as pd\n",
    "import numpy as np\n",
    "import matplotlib.ticker as ticker\n",
    "from sklearn import preprocessing\n",
    "from sklearn.preprocessing import LabelEncoder\n",
    "import scipy.stats\n",
    "%matplotlib inline"
   ]
  },
  {
   "cell_type": "code",
   "execution_count": 61,
   "metadata": {},
   "outputs": [
    {
     "data": {
      "text/html": [
       "<div>\n",
       "<style scoped>\n",
       "    .dataframe tbody tr th:only-of-type {\n",
       "        vertical-align: middle;\n",
       "    }\n",
       "\n",
       "    .dataframe tbody tr th {\n",
       "        vertical-align: top;\n",
       "    }\n",
       "\n",
       "    .dataframe thead th {\n",
       "        text-align: right;\n",
       "    }\n",
       "</style>\n",
       "<table border=\"1\" class=\"dataframe\">\n",
       "  <thead>\n",
       "    <tr style=\"text-align: right;\">\n",
       "      <th></th>\n",
       "      <th>GenderFM</th>\n",
       "      <th>GroupPictureGS</th>\n",
       "      <th>AgeCA</th>\n",
       "      <th>StatusPN</th>\n",
       "      <th>Position</th>\n",
       "      <th>AmountRaised</th>\n",
       "      <th>Goal</th>\n",
       "      <th>DonatorsNumber</th>\n",
       "      <th>Fundraising</th>\n",
       "      <th>FacebookShares</th>\n",
       "      <th>FacebookHearts</th>\n",
       "      <th>Updates</th>\n",
       "      <th>Target</th>\n",
       "    </tr>\n",
       "  </thead>\n",
       "  <tbody>\n",
       "    <tr>\n",
       "      <th>0</th>\n",
       "      <td>M</td>\n",
       "      <td>S</td>\n",
       "      <td>A</td>\n",
       "      <td>P</td>\n",
       "      <td>0</td>\n",
       "      <td>123335.8171</td>\n",
       "      <td>190817.11710</td>\n",
       "      <td>1498.032220</td>\n",
       "      <td>111.513342</td>\n",
       "      <td>6365.583260</td>\n",
       "      <td>1503.672319</td>\n",
       "      <td>13.356</td>\n",
       "      <td>0</td>\n",
       "    </tr>\n",
       "    <tr>\n",
       "      <th>1</th>\n",
       "      <td>M</td>\n",
       "      <td>G</td>\n",
       "      <td>A</td>\n",
       "      <td>P</td>\n",
       "      <td>1</td>\n",
       "      <td>117779.3482</td>\n",
       "      <td>-55434.50806</td>\n",
       "      <td>1075.122208</td>\n",
       "      <td>67.562508</td>\n",
       "      <td>4676.032376</td>\n",
       "      <td>1030.572312</td>\n",
       "      <td>-2.64838</td>\n",
       "      <td>1</td>\n",
       "    </tr>\n",
       "    <tr>\n",
       "      <th>2</th>\n",
       "      <td>M</td>\n",
       "      <td>G</td>\n",
       "      <td>A</td>\n",
       "      <td>P</td>\n",
       "      <td>1</td>\n",
       "      <td>114353.5865</td>\n",
       "      <td>175548.49210</td>\n",
       "      <td>1336.925030</td>\n",
       "      <td>24.108652</td>\n",
       "      <td>6738.705205</td>\n",
       "      <td>1368.283147</td>\n",
       "      <td>10.8408</td>\n",
       "      <td>0</td>\n",
       "    </tr>\n",
       "    <tr>\n",
       "      <th>3</th>\n",
       "      <td>M</td>\n",
       "      <td>S</td>\n",
       "      <td>C</td>\n",
       "      <td>P</td>\n",
       "      <td>2</td>\n",
       "      <td>111833.4708</td>\n",
       "      <td>127985.50500</td>\n",
       "      <td>1224.248576</td>\n",
       "      <td>67.562508</td>\n",
       "      <td>5583.315614</td>\n",
       "      <td>1261.381609</td>\n",
       "      <td>4.71012</td>\n",
       "      <td>1</td>\n",
       "    </tr>\n",
       "    <tr>\n",
       "      <th>4</th>\n",
       "      <td>M</td>\n",
       "      <td>S</td>\n",
       "      <td>A</td>\n",
       "      <td>P</td>\n",
       "      <td>2</td>\n",
       "      <td>109822.5481</td>\n",
       "      <td>127985.50500</td>\n",
       "      <td>1757.671000</td>\n",
       "      <td>111.513342</td>\n",
       "      <td>5722.593346</td>\n",
       "      <td>1809.699292</td>\n",
       "      <td>6.91727</td>\n",
       "      <td>1</td>\n",
       "    </tr>\n",
       "  </tbody>\n",
       "</table>\n",
       "</div>"
      ],
      "text/plain": [
       "  GenderFM GroupPictureGS AgeCA StatusPN  Position  AmountRaised  \\\n",
       "0        M              S     A        P         0   123335.8171   \n",
       "1        M              G     A        P         1   117779.3482   \n",
       "2        M              G     A        P         1   114353.5865   \n",
       "3        M              S     C        P         2   111833.4708   \n",
       "4        M              S     A        P         2   109822.5481   \n",
       "\n",
       "           Goal  DonatorsNumber  Fundraising  FacebookShares  FacebookHearts  \\\n",
       "0  190817.11710     1498.032220   111.513342     6365.583260     1503.672319   \n",
       "1  -55434.50806     1075.122208    67.562508     4676.032376     1030.572312   \n",
       "2  175548.49210     1336.925030    24.108652     6738.705205     1368.283147   \n",
       "3  127985.50500     1224.248576    67.562508     5583.315614     1261.381609   \n",
       "4  127985.50500     1757.671000   111.513342     5722.593346     1809.699292   \n",
       "\n",
       "   Updates  Target  \n",
       "0   13.356       0  \n",
       "1 -2.64838       1  \n",
       "2  10.8408       0  \n",
       "3  4.71012       1  \n",
       "4  6.91727       1  "
      ]
     },
     "execution_count": 61,
     "metadata": {},
     "output_type": "execute_result"
    }
   ],
   "source": [
    "df = pd.read_excel('Normal_Medical.xlsx')\n",
    "df.head()"
   ]
  },
  {
   "cell_type": "code",
   "execution_count": 62,
   "metadata": {},
   "outputs": [],
   "source": [
    "df.dropna(inplace=True)"
   ]
  },
  {
   "cell_type": "code",
   "execution_count": 63,
   "metadata": {},
   "outputs": [],
   "source": [
    "le = LabelEncoder()\n",
    "df['GenderFM'] = le.fit_transform(df['GenderFM'])\n",
    "df['GroupPictureGS']= le.fit_transform(df['GroupPictureGS'])\n",
    "df['AgeCA'] = le.fit_transform(df['AgeCA'])\n",
    "df['StatusPN'] = le.fit_transform(df['StatusPN'])"
   ]
  },
  {
   "cell_type": "code",
   "execution_count": 65,
   "metadata": {
    "scrolled": true
   },
   "outputs": [
    {
     "data": {
      "text/html": [
       "<div>\n",
       "<style scoped>\n",
       "    .dataframe tbody tr th:only-of-type {\n",
       "        vertical-align: middle;\n",
       "    }\n",
       "\n",
       "    .dataframe tbody tr th {\n",
       "        vertical-align: top;\n",
       "    }\n",
       "\n",
       "    .dataframe thead th {\n",
       "        text-align: right;\n",
       "    }\n",
       "</style>\n",
       "<table border=\"1\" class=\"dataframe\">\n",
       "  <thead>\n",
       "    <tr style=\"text-align: right;\">\n",
       "      <th></th>\n",
       "      <th>GenderFM</th>\n",
       "      <th>GroupPictureGS</th>\n",
       "      <th>AgeCA</th>\n",
       "      <th>StatusPN</th>\n",
       "      <th>Position</th>\n",
       "      <th>AmountRaised</th>\n",
       "      <th>Goal</th>\n",
       "      <th>DonatorsNumber</th>\n",
       "      <th>Fundraising</th>\n",
       "      <th>FacebookShares</th>\n",
       "      <th>FacebookHearts</th>\n",
       "      <th>Updates</th>\n",
       "      <th>Target</th>\n",
       "    </tr>\n",
       "  </thead>\n",
       "  <tbody>\n",
       "    <tr>\n",
       "      <th>0</th>\n",
       "      <td>2</td>\n",
       "      <td>1</td>\n",
       "      <td>0</td>\n",
       "      <td>2</td>\n",
       "      <td>0</td>\n",
       "      <td>123335.81710</td>\n",
       "      <td>190817.117100</td>\n",
       "      <td>1498.032220</td>\n",
       "      <td>111.513342</td>\n",
       "      <td>6365.583260</td>\n",
       "      <td>1503.672319</td>\n",
       "      <td>13.356</td>\n",
       "      <td>0</td>\n",
       "    </tr>\n",
       "    <tr>\n",
       "      <th>1</th>\n",
       "      <td>2</td>\n",
       "      <td>0</td>\n",
       "      <td>0</td>\n",
       "      <td>2</td>\n",
       "      <td>1</td>\n",
       "      <td>117779.34820</td>\n",
       "      <td>-55434.508060</td>\n",
       "      <td>1075.122208</td>\n",
       "      <td>67.562508</td>\n",
       "      <td>4676.032376</td>\n",
       "      <td>1030.572312</td>\n",
       "      <td>-2.64838</td>\n",
       "      <td>1</td>\n",
       "    </tr>\n",
       "    <tr>\n",
       "      <th>2</th>\n",
       "      <td>2</td>\n",
       "      <td>0</td>\n",
       "      <td>0</td>\n",
       "      <td>2</td>\n",
       "      <td>1</td>\n",
       "      <td>114353.58650</td>\n",
       "      <td>175548.492100</td>\n",
       "      <td>1336.925030</td>\n",
       "      <td>24.108652</td>\n",
       "      <td>6738.705205</td>\n",
       "      <td>1368.283147</td>\n",
       "      <td>10.8408</td>\n",
       "      <td>0</td>\n",
       "    </tr>\n",
       "    <tr>\n",
       "      <th>3</th>\n",
       "      <td>2</td>\n",
       "      <td>1</td>\n",
       "      <td>1</td>\n",
       "      <td>2</td>\n",
       "      <td>2</td>\n",
       "      <td>111833.47080</td>\n",
       "      <td>127985.505000</td>\n",
       "      <td>1224.248576</td>\n",
       "      <td>67.562508</td>\n",
       "      <td>5583.315614</td>\n",
       "      <td>1261.381609</td>\n",
       "      <td>4.71012</td>\n",
       "      <td>1</td>\n",
       "    </tr>\n",
       "    <tr>\n",
       "      <th>4</th>\n",
       "      <td>2</td>\n",
       "      <td>1</td>\n",
       "      <td>0</td>\n",
       "      <td>2</td>\n",
       "      <td>2</td>\n",
       "      <td>109822.54810</td>\n",
       "      <td>127985.505000</td>\n",
       "      <td>1757.671000</td>\n",
       "      <td>111.513342</td>\n",
       "      <td>5722.593346</td>\n",
       "      <td>1809.699292</td>\n",
       "      <td>6.91727</td>\n",
       "      <td>1</td>\n",
       "    </tr>\n",
       "    <tr>\n",
       "      <th>...</th>\n",
       "      <td>...</td>\n",
       "      <td>...</td>\n",
       "      <td>...</td>\n",
       "      <td>...</td>\n",
       "      <td>...</td>\n",
       "      <td>...</td>\n",
       "      <td>...</td>\n",
       "      <td>...</td>\n",
       "      <td>...</td>\n",
       "      <td>...</td>\n",
       "      <td>...</td>\n",
       "      <td>...</td>\n",
       "      <td>...</td>\n",
       "    </tr>\n",
       "    <tr>\n",
       "      <th>722</th>\n",
       "      <td>2</td>\n",
       "      <td>0</td>\n",
       "      <td>0</td>\n",
       "      <td>2</td>\n",
       "      <td>330</td>\n",
       "      <td>-15729.84307</td>\n",
       "      <td>-6532.265312</td>\n",
       "      <td>349.137569</td>\n",
       "      <td>144.870882</td>\n",
       "      <td>3403.337415</td>\n",
       "      <td>369.439544</td>\n",
       "      <td>-2.64838</td>\n",
       "      <td>1</td>\n",
       "    </tr>\n",
       "    <tr>\n",
       "      <th>723</th>\n",
       "      <td>2</td>\n",
       "      <td>0</td>\n",
       "      <td>0</td>\n",
       "      <td>2</td>\n",
       "      <td>331</td>\n",
       "      <td>-17740.76576</td>\n",
       "      <td>27788.292440</td>\n",
       "      <td>390.324319</td>\n",
       "      <td>19.808270</td>\n",
       "      <td>3403.337415</td>\n",
       "      <td>441.294764</td>\n",
       "      <td>4.71012</td>\n",
       "      <td>0</td>\n",
       "    </tr>\n",
       "    <tr>\n",
       "      <th>724</th>\n",
       "      <td>0</td>\n",
       "      <td>0</td>\n",
       "      <td>0</td>\n",
       "      <td>2</td>\n",
       "      <td>331</td>\n",
       "      <td>-20260.88142</td>\n",
       "      <td>-6532.265312</td>\n",
       "      <td>-81.849987</td>\n",
       "      <td>111.513342</td>\n",
       "      <td>1955.839024</td>\n",
       "      <td>-53.368741</td>\n",
       "      <td>2.10805</td>\n",
       "      <td>1</td>\n",
       "    </tr>\n",
       "    <tr>\n",
       "      <th>725</th>\n",
       "      <td>0</td>\n",
       "      <td>1</td>\n",
       "      <td>1</td>\n",
       "      <td>2</td>\n",
       "      <td>332</td>\n",
       "      <td>-23686.64311</td>\n",
       "      <td>-6532.265312</td>\n",
       "      <td>-168.895377</td>\n",
       "      <td>67.562508</td>\n",
       "      <td>1322.030572</td>\n",
       "      <td>-165.297344</td>\n",
       "      <td>9.96822</td>\n",
       "      <td>1</td>\n",
       "    </tr>\n",
       "    <tr>\n",
       "      <th>726</th>\n",
       "      <td>2</td>\n",
       "      <td>0</td>\n",
       "      <td>0</td>\n",
       "      <td>2</td>\n",
       "      <td>332</td>\n",
       "      <td>-29243.11205</td>\n",
       "      <td>12962.008330</td>\n",
       "      <td>390.324319</td>\n",
       "      <td>67.562508</td>\n",
       "      <td>1512.111551</td>\n",
       "      <td>394.602900</td>\n",
       "      <td>4.71012</td>\n",
       "      <td>0</td>\n",
       "    </tr>\n",
       "  </tbody>\n",
       "</table>\n",
       "<p>727 rows × 13 columns</p>\n",
       "</div>"
      ],
      "text/plain": [
       "     GenderFM  GroupPictureGS  AgeCA  StatusPN  Position  AmountRaised  \\\n",
       "0           2               1      0         2         0  123335.81710   \n",
       "1           2               0      0         2         1  117779.34820   \n",
       "2           2               0      0         2         1  114353.58650   \n",
       "3           2               1      1         2         2  111833.47080   \n",
       "4           2               1      0         2         2  109822.54810   \n",
       "..        ...             ...    ...       ...       ...           ...   \n",
       "722         2               0      0         2       330  -15729.84307   \n",
       "723         2               0      0         2       331  -17740.76576   \n",
       "724         0               0      0         2       331  -20260.88142   \n",
       "725         0               1      1         2       332  -23686.64311   \n",
       "726         2               0      0         2       332  -29243.11205   \n",
       "\n",
       "              Goal  DonatorsNumber  Fundraising  FacebookShares  \\\n",
       "0    190817.117100     1498.032220   111.513342     6365.583260   \n",
       "1    -55434.508060     1075.122208    67.562508     4676.032376   \n",
       "2    175548.492100     1336.925030    24.108652     6738.705205   \n",
       "3    127985.505000     1224.248576    67.562508     5583.315614   \n",
       "4    127985.505000     1757.671000   111.513342     5722.593346   \n",
       "..             ...             ...          ...             ...   \n",
       "722   -6532.265312      349.137569   144.870882     3403.337415   \n",
       "723   27788.292440      390.324319    19.808270     3403.337415   \n",
       "724   -6532.265312      -81.849987   111.513342     1955.839024   \n",
       "725   -6532.265312     -168.895377    67.562508     1322.030572   \n",
       "726   12962.008330      390.324319    67.562508     1512.111551   \n",
       "\n",
       "     FacebookHearts  Updates  Target  \n",
       "0       1503.672319   13.356       0  \n",
       "1       1030.572312 -2.64838       1  \n",
       "2       1368.283147  10.8408       0  \n",
       "3       1261.381609  4.71012       1  \n",
       "4       1809.699292  6.91727       1  \n",
       "..              ...      ...     ...  \n",
       "722      369.439544 -2.64838       1  \n",
       "723      441.294764  4.71012       0  \n",
       "724      -53.368741  2.10805       1  \n",
       "725     -165.297344  9.96822       1  \n",
       "726      394.602900  4.71012       0  \n",
       "\n",
       "[727 rows x 13 columns]"
      ]
     },
     "execution_count": 65,
     "metadata": {},
     "output_type": "execute_result"
    }
   ],
   "source": [
    "df=df.reset_index()[df.columns]\n",
    "df"
   ]
  },
  {
   "cell_type": "code",
   "execution_count": 66,
   "metadata": {},
   "outputs": [
    {
     "data": {
      "text/html": [
       "<div>\n",
       "<style scoped>\n",
       "    .dataframe tbody tr th:only-of-type {\n",
       "        vertical-align: middle;\n",
       "    }\n",
       "\n",
       "    .dataframe tbody tr th {\n",
       "        vertical-align: top;\n",
       "    }\n",
       "\n",
       "    .dataframe thead th {\n",
       "        text-align: right;\n",
       "    }\n",
       "</style>\n",
       "<table border=\"1\" class=\"dataframe\">\n",
       "  <thead>\n",
       "    <tr style=\"text-align: right;\">\n",
       "      <th></th>\n",
       "      <th>Goal</th>\n",
       "      <th>DonatorsNumber</th>\n",
       "      <th>Fundraising</th>\n",
       "      <th>FacebookShares</th>\n",
       "      <th>FacebookHearts</th>\n",
       "      <th>Updates</th>\n",
       "    </tr>\n",
       "  </thead>\n",
       "  <tbody>\n",
       "    <tr>\n",
       "      <th>0</th>\n",
       "      <td>190817.11710</td>\n",
       "      <td>1498.032220</td>\n",
       "      <td>111.513342</td>\n",
       "      <td>6365.583260</td>\n",
       "      <td>1503.672319</td>\n",
       "      <td>13.356</td>\n",
       "    </tr>\n",
       "    <tr>\n",
       "      <th>1</th>\n",
       "      <td>-55434.50806</td>\n",
       "      <td>1075.122208</td>\n",
       "      <td>67.562508</td>\n",
       "      <td>4676.032376</td>\n",
       "      <td>1030.572312</td>\n",
       "      <td>-2.64838</td>\n",
       "    </tr>\n",
       "    <tr>\n",
       "      <th>2</th>\n",
       "      <td>175548.49210</td>\n",
       "      <td>1336.925030</td>\n",
       "      <td>24.108652</td>\n",
       "      <td>6738.705205</td>\n",
       "      <td>1368.283147</td>\n",
       "      <td>10.8408</td>\n",
       "    </tr>\n",
       "    <tr>\n",
       "      <th>3</th>\n",
       "      <td>127985.50500</td>\n",
       "      <td>1224.248576</td>\n",
       "      <td>67.562508</td>\n",
       "      <td>5583.315614</td>\n",
       "      <td>1261.381609</td>\n",
       "      <td>4.71012</td>\n",
       "    </tr>\n",
       "    <tr>\n",
       "      <th>4</th>\n",
       "      <td>127985.50500</td>\n",
       "      <td>1757.671000</td>\n",
       "      <td>111.513342</td>\n",
       "      <td>5722.593346</td>\n",
       "      <td>1809.699292</td>\n",
       "      <td>6.91727</td>\n",
       "    </tr>\n",
       "  </tbody>\n",
       "</table>\n",
       "</div>"
      ],
      "text/plain": [
       "           Goal  DonatorsNumber  Fundraising  FacebookShares  FacebookHearts  \\\n",
       "0  190817.11710     1498.032220   111.513342     6365.583260     1503.672319   \n",
       "1  -55434.50806     1075.122208    67.562508     4676.032376     1030.572312   \n",
       "2  175548.49210     1336.925030    24.108652     6738.705205     1368.283147   \n",
       "3  127985.50500     1224.248576    67.562508     5583.315614     1261.381609   \n",
       "4  127985.50500     1757.671000   111.513342     5722.593346     1809.699292   \n",
       "\n",
       "   Updates  \n",
       "0   13.356  \n",
       "1 -2.64838  \n",
       "2  10.8408  \n",
       "3  4.71012  \n",
       "4  6.91727  "
      ]
     },
     "execution_count": 66,
     "metadata": {},
     "output_type": "execute_result"
    }
   ],
   "source": [
    "df1 = df.iloc[:,5:]\n",
    "df1 = df1.drop(['AmountRaised','Target'],axis =1)\n",
    "df1.head()"
   ]
  },
  {
   "cell_type": "code",
   "execution_count": 67,
   "metadata": {},
   "outputs": [],
   "source": [
    "df1_train = df1.iloc[0:583]\n",
    "df1_test = df1.iloc[583:]"
   ]
  },
  {
   "cell_type": "code",
   "execution_count": 68,
   "metadata": {},
   "outputs": [
    {
     "data": {
      "text/html": [
       "<div>\n",
       "<style scoped>\n",
       "    .dataframe tbody tr th:only-of-type {\n",
       "        vertical-align: middle;\n",
       "    }\n",
       "\n",
       "    .dataframe tbody tr th {\n",
       "        vertical-align: top;\n",
       "    }\n",
       "\n",
       "    .dataframe thead th {\n",
       "        text-align: right;\n",
       "    }\n",
       "</style>\n",
       "<table border=\"1\" class=\"dataframe\">\n",
       "  <thead>\n",
       "    <tr style=\"text-align: right;\">\n",
       "      <th></th>\n",
       "      <th>GenderFM</th>\n",
       "      <th>GroupPictureGS</th>\n",
       "      <th>AgeCA</th>\n",
       "      <th>StatusPN</th>\n",
       "      <th>Position</th>\n",
       "    </tr>\n",
       "  </thead>\n",
       "  <tbody>\n",
       "    <tr>\n",
       "      <th>0</th>\n",
       "      <td>2</td>\n",
       "      <td>1</td>\n",
       "      <td>0</td>\n",
       "      <td>2</td>\n",
       "      <td>0</td>\n",
       "    </tr>\n",
       "    <tr>\n",
       "      <th>1</th>\n",
       "      <td>2</td>\n",
       "      <td>0</td>\n",
       "      <td>0</td>\n",
       "      <td>2</td>\n",
       "      <td>1</td>\n",
       "    </tr>\n",
       "    <tr>\n",
       "      <th>2</th>\n",
       "      <td>2</td>\n",
       "      <td>0</td>\n",
       "      <td>0</td>\n",
       "      <td>2</td>\n",
       "      <td>1</td>\n",
       "    </tr>\n",
       "    <tr>\n",
       "      <th>3</th>\n",
       "      <td>2</td>\n",
       "      <td>1</td>\n",
       "      <td>1</td>\n",
       "      <td>2</td>\n",
       "      <td>2</td>\n",
       "    </tr>\n",
       "    <tr>\n",
       "      <th>4</th>\n",
       "      <td>2</td>\n",
       "      <td>1</td>\n",
       "      <td>0</td>\n",
       "      <td>2</td>\n",
       "      <td>2</td>\n",
       "    </tr>\n",
       "  </tbody>\n",
       "</table>\n",
       "</div>"
      ],
      "text/plain": [
       "   GenderFM  GroupPictureGS  AgeCA  StatusPN  Position\n",
       "0         2               1      0         2         0\n",
       "1         2               0      0         2         1\n",
       "2         2               0      0         2         1\n",
       "3         2               1      1         2         2\n",
       "4         2               1      0         2         2"
      ]
     },
     "execution_count": 68,
     "metadata": {},
     "output_type": "execute_result"
    }
   ],
   "source": [
    "df2 = df.iloc[:,0:5]\n",
    "df2.head()"
   ]
  },
  {
   "cell_type": "code",
   "execution_count": 69,
   "metadata": {},
   "outputs": [],
   "source": [
    "df2_train = df2.iloc[0:583]\n",
    "df2_test = df2.iloc[583:]"
   ]
  },
  {
   "cell_type": "code",
   "execution_count": 70,
   "metadata": {},
   "outputs": [],
   "source": [
    "df3 = df.drop(['AmountRaised','Target'],axis =1)\n",
    "\n",
    "df3['GenderFM']=le.fit_transform(df3['GenderFM'])\n",
    "df3['GroupPictureGS']=le.fit_transform(df3['GroupPictureGS'])\n",
    "df3['AgeCA']=le.fit_transform(df3['AgeCA'])\n",
    "df3['StatusPN']=le.fit_transform(df3['StatusPN'])"
   ]
  },
  {
   "cell_type": "code",
   "execution_count": 71,
   "metadata": {},
   "outputs": [],
   "source": [
    "List1 =df3.iloc[:,:5]\n",
    "List2 = df3.iloc[:,5:]\n",
    "\n",
    "for i in List1:\n",
    "  for j in List2:\n",
    "    df3[i+j]=df3.apply(lambda x:x[i]*x[j],axis =1)"
   ]
  },
  {
   "cell_type": "code",
   "execution_count": 72,
   "metadata": {},
   "outputs": [
    {
     "data": {
      "text/html": [
       "<div>\n",
       "<style scoped>\n",
       "    .dataframe tbody tr th:only-of-type {\n",
       "        vertical-align: middle;\n",
       "    }\n",
       "\n",
       "    .dataframe tbody tr th {\n",
       "        vertical-align: top;\n",
       "    }\n",
       "\n",
       "    .dataframe thead th {\n",
       "        text-align: right;\n",
       "    }\n",
       "</style>\n",
       "<table border=\"1\" class=\"dataframe\">\n",
       "  <thead>\n",
       "    <tr style=\"text-align: right;\">\n",
       "      <th></th>\n",
       "      <th>GenderFM</th>\n",
       "      <th>GroupPictureGS</th>\n",
       "      <th>AgeCA</th>\n",
       "      <th>StatusPN</th>\n",
       "      <th>Position</th>\n",
       "      <th>Goal</th>\n",
       "      <th>DonatorsNumber</th>\n",
       "      <th>Fundraising</th>\n",
       "      <th>FacebookShares</th>\n",
       "      <th>FacebookHearts</th>\n",
       "      <th>...</th>\n",
       "      <th>StatusPNFundraising</th>\n",
       "      <th>StatusPNFacebookShares</th>\n",
       "      <th>StatusPNFacebookHearts</th>\n",
       "      <th>StatusPNUpdates</th>\n",
       "      <th>PositionGoal</th>\n",
       "      <th>PositionDonatorsNumber</th>\n",
       "      <th>PositionFundraising</th>\n",
       "      <th>PositionFacebookShares</th>\n",
       "      <th>PositionFacebookHearts</th>\n",
       "      <th>PositionUpdates</th>\n",
       "    </tr>\n",
       "  </thead>\n",
       "  <tbody>\n",
       "    <tr>\n",
       "      <th>0</th>\n",
       "      <td>2</td>\n",
       "      <td>1</td>\n",
       "      <td>0</td>\n",
       "      <td>2</td>\n",
       "      <td>0</td>\n",
       "      <td>190817.11710</td>\n",
       "      <td>1498.032220</td>\n",
       "      <td>111.513342</td>\n",
       "      <td>6365.583260</td>\n",
       "      <td>1503.672319</td>\n",
       "      <td>...</td>\n",
       "      <td>223.026685</td>\n",
       "      <td>12731.166520</td>\n",
       "      <td>3007.344638</td>\n",
       "      <td>26.7119</td>\n",
       "      <td>0.00000</td>\n",
       "      <td>0.000000</td>\n",
       "      <td>0.000000</td>\n",
       "      <td>0.000000</td>\n",
       "      <td>0.000000</td>\n",
       "      <td>0</td>\n",
       "    </tr>\n",
       "    <tr>\n",
       "      <th>1</th>\n",
       "      <td>2</td>\n",
       "      <td>0</td>\n",
       "      <td>0</td>\n",
       "      <td>2</td>\n",
       "      <td>1</td>\n",
       "      <td>-55434.50806</td>\n",
       "      <td>1075.122208</td>\n",
       "      <td>67.562508</td>\n",
       "      <td>4676.032376</td>\n",
       "      <td>1030.572312</td>\n",
       "      <td>...</td>\n",
       "      <td>135.125017</td>\n",
       "      <td>9352.064752</td>\n",
       "      <td>2061.144624</td>\n",
       "      <td>-5.29677</td>\n",
       "      <td>-55434.50806</td>\n",
       "      <td>1075.122208</td>\n",
       "      <td>67.562508</td>\n",
       "      <td>4676.032376</td>\n",
       "      <td>1030.572312</td>\n",
       "      <td>-2.64838</td>\n",
       "    </tr>\n",
       "    <tr>\n",
       "      <th>2</th>\n",
       "      <td>2</td>\n",
       "      <td>0</td>\n",
       "      <td>0</td>\n",
       "      <td>2</td>\n",
       "      <td>1</td>\n",
       "      <td>175548.49210</td>\n",
       "      <td>1336.925030</td>\n",
       "      <td>24.108652</td>\n",
       "      <td>6738.705205</td>\n",
       "      <td>1368.283147</td>\n",
       "      <td>...</td>\n",
       "      <td>48.217305</td>\n",
       "      <td>13477.410410</td>\n",
       "      <td>2736.566294</td>\n",
       "      <td>21.6817</td>\n",
       "      <td>175548.49210</td>\n",
       "      <td>1336.925030</td>\n",
       "      <td>24.108652</td>\n",
       "      <td>6738.705205</td>\n",
       "      <td>1368.283147</td>\n",
       "      <td>10.8408</td>\n",
       "    </tr>\n",
       "    <tr>\n",
       "      <th>3</th>\n",
       "      <td>2</td>\n",
       "      <td>1</td>\n",
       "      <td>1</td>\n",
       "      <td>2</td>\n",
       "      <td>2</td>\n",
       "      <td>127985.50500</td>\n",
       "      <td>1224.248576</td>\n",
       "      <td>67.562508</td>\n",
       "      <td>5583.315614</td>\n",
       "      <td>1261.381609</td>\n",
       "      <td>...</td>\n",
       "      <td>135.125017</td>\n",
       "      <td>11166.631228</td>\n",
       "      <td>2522.763218</td>\n",
       "      <td>9.42025</td>\n",
       "      <td>255971.01000</td>\n",
       "      <td>2448.497152</td>\n",
       "      <td>135.125017</td>\n",
       "      <td>11166.631228</td>\n",
       "      <td>2522.763218</td>\n",
       "      <td>9.42025</td>\n",
       "    </tr>\n",
       "    <tr>\n",
       "      <th>4</th>\n",
       "      <td>2</td>\n",
       "      <td>1</td>\n",
       "      <td>0</td>\n",
       "      <td>2</td>\n",
       "      <td>2</td>\n",
       "      <td>127985.50500</td>\n",
       "      <td>1757.671000</td>\n",
       "      <td>111.513342</td>\n",
       "      <td>5722.593346</td>\n",
       "      <td>1809.699292</td>\n",
       "      <td>...</td>\n",
       "      <td>223.026685</td>\n",
       "      <td>11445.186692</td>\n",
       "      <td>3619.398584</td>\n",
       "      <td>13.8345</td>\n",
       "      <td>255971.01000</td>\n",
       "      <td>3515.342000</td>\n",
       "      <td>223.026685</td>\n",
       "      <td>11445.186692</td>\n",
       "      <td>3619.398584</td>\n",
       "      <td>13.8345</td>\n",
       "    </tr>\n",
       "  </tbody>\n",
       "</table>\n",
       "<p>5 rows × 41 columns</p>\n",
       "</div>"
      ],
      "text/plain": [
       "   GenderFM  GroupPictureGS  AgeCA  StatusPN  Position          Goal  \\\n",
       "0         2               1      0         2         0  190817.11710   \n",
       "1         2               0      0         2         1  -55434.50806   \n",
       "2         2               0      0         2         1  175548.49210   \n",
       "3         2               1      1         2         2  127985.50500   \n",
       "4         2               1      0         2         2  127985.50500   \n",
       "\n",
       "   DonatorsNumber  Fundraising  FacebookShares  FacebookHearts  ...  \\\n",
       "0     1498.032220   111.513342     6365.583260     1503.672319  ...   \n",
       "1     1075.122208    67.562508     4676.032376     1030.572312  ...   \n",
       "2     1336.925030    24.108652     6738.705205     1368.283147  ...   \n",
       "3     1224.248576    67.562508     5583.315614     1261.381609  ...   \n",
       "4     1757.671000   111.513342     5722.593346     1809.699292  ...   \n",
       "\n",
       "  StatusPNFundraising  StatusPNFacebookShares  StatusPNFacebookHearts  \\\n",
       "0          223.026685            12731.166520             3007.344638   \n",
       "1          135.125017             9352.064752             2061.144624   \n",
       "2           48.217305            13477.410410             2736.566294   \n",
       "3          135.125017            11166.631228             2522.763218   \n",
       "4          223.026685            11445.186692             3619.398584   \n",
       "\n",
       "   StatusPNUpdates  PositionGoal  PositionDonatorsNumber PositionFundraising  \\\n",
       "0          26.7119       0.00000                0.000000            0.000000   \n",
       "1         -5.29677  -55434.50806             1075.122208           67.562508   \n",
       "2          21.6817  175548.49210             1336.925030           24.108652   \n",
       "3          9.42025  255971.01000             2448.497152          135.125017   \n",
       "4          13.8345  255971.01000             3515.342000          223.026685   \n",
       "\n",
       "   PositionFacebookShares  PositionFacebookHearts  PositionUpdates  \n",
       "0                0.000000                0.000000                0  \n",
       "1             4676.032376             1030.572312         -2.64838  \n",
       "2             6738.705205             1368.283147          10.8408  \n",
       "3            11166.631228             2522.763218          9.42025  \n",
       "4            11445.186692             3619.398584          13.8345  \n",
       "\n",
       "[5 rows x 41 columns]"
      ]
     },
     "execution_count": 72,
     "metadata": {},
     "output_type": "execute_result"
    }
   ],
   "source": [
    "df3.head()"
   ]
  },
  {
   "cell_type": "code",
   "execution_count": 73,
   "metadata": {},
   "outputs": [],
   "source": [
    "df3_train = df3.iloc[0:583]\n",
    "df3_test = df3.iloc[583:]"
   ]
  },
  {
   "cell_type": "markdown",
   "metadata": {},
   "source": [
    "# Data Description"
   ]
  },
  {
   "cell_type": "code",
   "execution_count": 81,
   "metadata": {},
   "outputs": [],
   "source": [
    "mc_data = pd.read_excel('Mc_data.xlsx')"
   ]
  },
  {
   "cell_type": "code",
   "execution_count": 82,
   "metadata": {},
   "outputs": [],
   "source": [
    "def normalize_date(x):\n",
    "    if 'months' in x:\n",
    "        x = float(x.replace('months',''))*30\n",
    "    elif 'month' in x:\n",
    "        x = float(x.replace('month',''))*30\n",
    "    else:\n",
    "        x = float(x.replace('days',''))\n",
    "    return(x)\n",
    "mc_data['Length_of_Fundraising']=mc_data['Length_of_Fundraising'].apply(normalize_date)\n",
    "\n",
    "def normalize_number(x):\n",
    "    if isinstance(x,str):\n",
    "        if 'k' in x:\n",
    "            x = float(x.replace('k',''))*1000\n",
    "    else:\n",
    "        x = float(x)\n",
    "    return(x)\n",
    "mc_data['Facebook_Shares']=mc_data['Facebook_Shares'].apply(normalize_number)\n",
    "mc_data['Favorite_Hearts']=mc_data['Favorite_Hearts'].apply(normalize_number)"
   ]
  },
  {
   "cell_type": "code",
   "execution_count": 83,
   "metadata": {},
   "outputs": [],
   "source": [
    "mc_data['Facebook_Shares']=mc_data['Facebook_Shares'].apply(pd.to_numeric)\n",
    "mc_data['Favorite_Hearts']=mc_data['Favorite_Hearts'].apply(pd.to_numeric)"
   ]
  },
  {
   "cell_type": "code",
   "execution_count": 84,
   "metadata": {},
   "outputs": [],
   "source": [
    "mc_data.dropna(inplace=True)"
   ]
  },
  {
   "cell_type": "code",
   "execution_count": 85,
   "metadata": {},
   "outputs": [
    {
     "data": {
      "text/html": [
       "<div>\n",
       "<style scoped>\n",
       "    .dataframe tbody tr th:only-of-type {\n",
       "        vertical-align: middle;\n",
       "    }\n",
       "\n",
       "    .dataframe tbody tr th {\n",
       "        vertical-align: top;\n",
       "    }\n",
       "\n",
       "    .dataframe thead th {\n",
       "        text-align: right;\n",
       "    }\n",
       "</style>\n",
       "<table border=\"1\" class=\"dataframe\">\n",
       "  <thead>\n",
       "    <tr style=\"text-align: right;\">\n",
       "      <th></th>\n",
       "      <th>count</th>\n",
       "      <th>mean</th>\n",
       "      <th>std</th>\n",
       "      <th>min</th>\n",
       "      <th>25%</th>\n",
       "      <th>50%</th>\n",
       "      <th>75%</th>\n",
       "      <th>max</th>\n",
       "    </tr>\n",
       "  </thead>\n",
       "  <tbody>\n",
       "    <tr>\n",
       "      <th>Position</th>\n",
       "      <td>729.0</td>\n",
       "      <td>162.456790</td>\n",
       "      <td>95.692078</td>\n",
       "      <td>0.0</td>\n",
       "      <td>80.0</td>\n",
       "      <td>160.0</td>\n",
       "      <td>245.0</td>\n",
       "      <td>332.0</td>\n",
       "    </tr>\n",
       "    <tr>\n",
       "      <th>Amount_Raised</th>\n",
       "      <td>729.0</td>\n",
       "      <td>47046.352538</td>\n",
       "      <td>25471.363805</td>\n",
       "      <td>26279.0</td>\n",
       "      <td>30943.0</td>\n",
       "      <td>38652.0</td>\n",
       "      <td>53535.0</td>\n",
       "      <td>241461.0</td>\n",
       "    </tr>\n",
       "    <tr>\n",
       "      <th>Goal</th>\n",
       "      <td>729.0</td>\n",
       "      <td>71625.310014</td>\n",
       "      <td>63461.360006</td>\n",
       "      <td>1.0</td>\n",
       "      <td>35000.0</td>\n",
       "      <td>50000.0</td>\n",
       "      <td>100000.0</td>\n",
       "      <td>500000.0</td>\n",
       "    </tr>\n",
       "    <tr>\n",
       "      <th>Donators_Number</th>\n",
       "      <td>729.0</td>\n",
       "      <td>454.152263</td>\n",
       "      <td>435.216057</td>\n",
       "      <td>41.0</td>\n",
       "      <td>239.0</td>\n",
       "      <td>340.0</td>\n",
       "      <td>502.0</td>\n",
       "      <td>4483.0</td>\n",
       "    </tr>\n",
       "    <tr>\n",
       "      <th>Length_of_Fundraising</th>\n",
       "      <td>729.0</td>\n",
       "      <td>88.695473</td>\n",
       "      <td>46.021262</td>\n",
       "      <td>4.0</td>\n",
       "      <td>60.0</td>\n",
       "      <td>90.0</td>\n",
       "      <td>120.0</td>\n",
       "      <td>180.0</td>\n",
       "    </tr>\n",
       "    <tr>\n",
       "      <th>Facebook_Shares</th>\n",
       "      <td>729.0</td>\n",
       "      <td>1711.710562</td>\n",
       "      <td>2146.875793</td>\n",
       "      <td>22.0</td>\n",
       "      <td>634.0</td>\n",
       "      <td>1100.0</td>\n",
       "      <td>2000.0</td>\n",
       "      <td>23000.0</td>\n",
       "    </tr>\n",
       "    <tr>\n",
       "      <th>Favorite_Hearts</th>\n",
       "      <td>729.0</td>\n",
       "      <td>460.659808</td>\n",
       "      <td>450.414427</td>\n",
       "      <td>38.0</td>\n",
       "      <td>238.0</td>\n",
       "      <td>339.0</td>\n",
       "      <td>513.0</td>\n",
       "      <td>4700.0</td>\n",
       "    </tr>\n",
       "    <tr>\n",
       "      <th>Updates</th>\n",
       "      <td>729.0</td>\n",
       "      <td>5.330590</td>\n",
       "      <td>6.931110</td>\n",
       "      <td>1.0</td>\n",
       "      <td>2.0</td>\n",
       "      <td>3.0</td>\n",
       "      <td>6.0</td>\n",
       "      <td>73.0</td>\n",
       "    </tr>\n",
       "  </tbody>\n",
       "</table>\n",
       "</div>"
      ],
      "text/plain": [
       "                       count          mean           std      min      25%  \\\n",
       "Position               729.0    162.456790     95.692078      0.0     80.0   \n",
       "Amount_Raised          729.0  47046.352538  25471.363805  26279.0  30943.0   \n",
       "Goal                   729.0  71625.310014  63461.360006      1.0  35000.0   \n",
       "Donators_Number        729.0    454.152263    435.216057     41.0    239.0   \n",
       "Length_of_Fundraising  729.0     88.695473     46.021262      4.0     60.0   \n",
       "Facebook_Shares        729.0   1711.710562   2146.875793     22.0    634.0   \n",
       "Favorite_Hearts        729.0    460.659808    450.414427     38.0    238.0   \n",
       "Updates                729.0      5.330590      6.931110      1.0      2.0   \n",
       "\n",
       "                           50%       75%       max  \n",
       "Position                 160.0     245.0     332.0  \n",
       "Amount_Raised          38652.0   53535.0  241461.0  \n",
       "Goal                   50000.0  100000.0  500000.0  \n",
       "Donators_Number          340.0     502.0    4483.0  \n",
       "Length_of_Fundraising     90.0     120.0     180.0  \n",
       "Facebook_Shares         1100.0    2000.0   23000.0  \n",
       "Favorite_Hearts          339.0     513.0    4700.0  \n",
       "Updates                    3.0       6.0      73.0  "
      ]
     },
     "execution_count": 85,
     "metadata": {},
     "output_type": "execute_result"
    }
   ],
   "source": [
    "# Describe Dataset\n",
    "mc_data.describe().T"
   ]
  },
  {
   "cell_type": "code",
   "execution_count": 87,
   "metadata": {},
   "outputs": [],
   "source": [
    "le = LabelEncoder()\n",
    "mc_data['GenderFM'] = le.fit_transform(mc_data['GenderFM'])\n",
    "mc_data['GroupPictureGS']= le.fit_transform(mc_data['GroupPictureGS'])\n",
    "mc_data['AgeCA'] = le.fit_transform(mc_data['AgeCA'])\n",
    "mc_data['StatusPN'] = le.fit_transform(mc_data['StatusPN'])"
   ]
  },
  {
   "cell_type": "code",
   "execution_count": 93,
   "metadata": {},
   "outputs": [
    {
     "data": {
      "text/html": [
       "<div>\n",
       "<style scoped>\n",
       "    .dataframe tbody tr th:only-of-type {\n",
       "        vertical-align: middle;\n",
       "    }\n",
       "\n",
       "    .dataframe tbody tr th {\n",
       "        vertical-align: top;\n",
       "    }\n",
       "\n",
       "    .dataframe thead th {\n",
       "        text-align: right;\n",
       "    }\n",
       "</style>\n",
       "<table border=\"1\" class=\"dataframe\">\n",
       "  <thead>\n",
       "    <tr style=\"text-align: right;\">\n",
       "      <th></th>\n",
       "      <th>GenderFM</th>\n",
       "      <th>GroupPictureGS</th>\n",
       "      <th>AgeCA</th>\n",
       "      <th>StatusPN</th>\n",
       "      <th>Position</th>\n",
       "      <th>Amount_Raised</th>\n",
       "      <th>Goal</th>\n",
       "      <th>Donators_Number</th>\n",
       "      <th>Length_of_Fundraising</th>\n",
       "      <th>Facebook_Shares</th>\n",
       "      <th>Favorite_Hearts</th>\n",
       "      <th>Updates</th>\n",
       "    </tr>\n",
       "  </thead>\n",
       "  <tbody>\n",
       "    <tr>\n",
       "      <th>1</th>\n",
       "      <td>2</td>\n",
       "      <td>1</td>\n",
       "      <td>0</td>\n",
       "      <td>2</td>\n",
       "      <td>0</td>\n",
       "      <td>241461</td>\n",
       "      <td>100000</td>\n",
       "      <td>4483</td>\n",
       "      <td>30.0</td>\n",
       "      <td>21000.0</td>\n",
       "      <td>4700.0</td>\n",
       "      <td>2.0</td>\n",
       "    </tr>\n",
       "    <tr>\n",
       "      <th>2</th>\n",
       "      <td>2</td>\n",
       "      <td>1</td>\n",
       "      <td>0</td>\n",
       "      <td>2</td>\n",
       "      <td>0</td>\n",
       "      <td>225090</td>\n",
       "      <td>250000</td>\n",
       "      <td>2464</td>\n",
       "      <td>120.0</td>\n",
       "      <td>8900.0</td>\n",
       "      <td>2500.0</td>\n",
       "      <td>10.0</td>\n",
       "    </tr>\n",
       "    <tr>\n",
       "      <th>3</th>\n",
       "      <td>2</td>\n",
       "      <td>0</td>\n",
       "      <td>0</td>\n",
       "      <td>2</td>\n",
       "      <td>1</td>\n",
       "      <td>197512</td>\n",
       "      <td>10000</td>\n",
       "      <td>900</td>\n",
       "      <td>60.0</td>\n",
       "      <td>3700.0</td>\n",
       "      <td>776.0</td>\n",
       "      <td>1.0</td>\n",
       "    </tr>\n",
       "    <tr>\n",
       "      <th>4</th>\n",
       "      <td>2</td>\n",
       "      <td>0</td>\n",
       "      <td>0</td>\n",
       "      <td>2</td>\n",
       "      <td>1</td>\n",
       "      <td>194235</td>\n",
       "      <td>200000</td>\n",
       "      <td>1936</td>\n",
       "      <td>27.0</td>\n",
       "      <td>12000.0</td>\n",
       "      <td>2000.0</td>\n",
       "      <td>7.0</td>\n",
       "    </tr>\n",
       "    <tr>\n",
       "      <th>7</th>\n",
       "      <td>2</td>\n",
       "      <td>1</td>\n",
       "      <td>1</td>\n",
       "      <td>2</td>\n",
       "      <td>2</td>\n",
       "      <td>150630</td>\n",
       "      <td>100000</td>\n",
       "      <td>1300</td>\n",
       "      <td>60.0</td>\n",
       "      <td>6100.0</td>\n",
       "      <td>1300.0</td>\n",
       "      <td>3.0</td>\n",
       "    </tr>\n",
       "    <tr>\n",
       "      <th>...</th>\n",
       "      <td>...</td>\n",
       "      <td>...</td>\n",
       "      <td>...</td>\n",
       "      <td>...</td>\n",
       "      <td>...</td>\n",
       "      <td>...</td>\n",
       "      <td>...</td>\n",
       "      <td>...</td>\n",
       "      <td>...</td>\n",
       "      <td>...</td>\n",
       "      <td>...</td>\n",
       "      <td>...</td>\n",
       "    </tr>\n",
       "    <tr>\n",
       "      <th>988</th>\n",
       "      <td>2</td>\n",
       "      <td>0</td>\n",
       "      <td>0</td>\n",
       "      <td>2</td>\n",
       "      <td>330</td>\n",
       "      <td>26365</td>\n",
       "      <td>25000</td>\n",
       "      <td>297</td>\n",
       "      <td>150.0</td>\n",
       "      <td>2200.0</td>\n",
       "      <td>306.0</td>\n",
       "      <td>1.0</td>\n",
       "    </tr>\n",
       "    <tr>\n",
       "      <th>990</th>\n",
       "      <td>2</td>\n",
       "      <td>0</td>\n",
       "      <td>0</td>\n",
       "      <td>2</td>\n",
       "      <td>331</td>\n",
       "      <td>26357</td>\n",
       "      <td>35000</td>\n",
       "      <td>316</td>\n",
       "      <td>25.0</td>\n",
       "      <td>2200.0</td>\n",
       "      <td>334.0</td>\n",
       "      <td>3.0</td>\n",
       "    </tr>\n",
       "    <tr>\n",
       "      <th>992</th>\n",
       "      <td>0</td>\n",
       "      <td>0</td>\n",
       "      <td>0</td>\n",
       "      <td>2</td>\n",
       "      <td>331</td>\n",
       "      <td>26350</td>\n",
       "      <td>25000</td>\n",
       "      <td>181</td>\n",
       "      <td>120.0</td>\n",
       "      <td>1200.0</td>\n",
       "      <td>186.0</td>\n",
       "      <td>2.0</td>\n",
       "    </tr>\n",
       "    <tr>\n",
       "      <th>994</th>\n",
       "      <td>0</td>\n",
       "      <td>1</td>\n",
       "      <td>1</td>\n",
       "      <td>2</td>\n",
       "      <td>332</td>\n",
       "      <td>26287</td>\n",
       "      <td>25000</td>\n",
       "      <td>163</td>\n",
       "      <td>60.0</td>\n",
       "      <td>983.0</td>\n",
       "      <td>165.0</td>\n",
       "      <td>6.0</td>\n",
       "    </tr>\n",
       "    <tr>\n",
       "      <th>995</th>\n",
       "      <td>2</td>\n",
       "      <td>0</td>\n",
       "      <td>0</td>\n",
       "      <td>2</td>\n",
       "      <td>332</td>\n",
       "      <td>26279</td>\n",
       "      <td>30000</td>\n",
       "      <td>316</td>\n",
       "      <td>60.0</td>\n",
       "      <td>1000.0</td>\n",
       "      <td>317.0</td>\n",
       "      <td>3.0</td>\n",
       "    </tr>\n",
       "  </tbody>\n",
       "</table>\n",
       "<p>729 rows × 12 columns</p>\n",
       "</div>"
      ],
      "text/plain": [
       "     GenderFM  GroupPictureGS  AgeCA  StatusPN  Position  Amount_Raised  \\\n",
       "1           2               1      0         2         0         241461   \n",
       "2           2               1      0         2         0         225090   \n",
       "3           2               0      0         2         1         197512   \n",
       "4           2               0      0         2         1         194235   \n",
       "7           2               1      1         2         2         150630   \n",
       "..        ...             ...    ...       ...       ...            ...   \n",
       "988         2               0      0         2       330          26365   \n",
       "990         2               0      0         2       331          26357   \n",
       "992         0               0      0         2       331          26350   \n",
       "994         0               1      1         2       332          26287   \n",
       "995         2               0      0         2       332          26279   \n",
       "\n",
       "       Goal  Donators_Number  Length_of_Fundraising  Facebook_Shares  \\\n",
       "1    100000             4483                   30.0          21000.0   \n",
       "2    250000             2464                  120.0           8900.0   \n",
       "3     10000              900                   60.0           3700.0   \n",
       "4    200000             1936                   27.0          12000.0   \n",
       "7    100000             1300                   60.0           6100.0   \n",
       "..      ...              ...                    ...              ...   \n",
       "988   25000              297                  150.0           2200.0   \n",
       "990   35000              316                   25.0           2200.0   \n",
       "992   25000              181                  120.0           1200.0   \n",
       "994   25000              163                   60.0            983.0   \n",
       "995   30000              316                   60.0           1000.0   \n",
       "\n",
       "     Favorite_Hearts  Updates  \n",
       "1             4700.0      2.0  \n",
       "2             2500.0     10.0  \n",
       "3              776.0      1.0  \n",
       "4             2000.0      7.0  \n",
       "7             1300.0      3.0  \n",
       "..               ...      ...  \n",
       "988            306.0      1.0  \n",
       "990            334.0      3.0  \n",
       "992            186.0      2.0  \n",
       "994            165.0      6.0  \n",
       "995            317.0      3.0  \n",
       "\n",
       "[729 rows x 12 columns]"
      ]
     },
     "execution_count": 93,
     "metadata": {},
     "output_type": "execute_result"
    }
   ],
   "source": [
    "mc_data"
   ]
  },
  {
   "cell_type": "code",
   "execution_count": 92,
   "metadata": {},
   "outputs": [],
   "source": [
    "import scipy.stats as stats"
   ]
  },
  {
   "cell_type": "code",
   "execution_count": 94,
   "metadata": {},
   "outputs": [],
   "source": [
    "lable = ['GenderFM', 'GroupPictureGS', 'AgeCA', 'StatusPN', 'Position', 'Amount_Raised', 'Goal', 'Donators_Number', 'Length_of_Fundraising', 'Facebook_Shares', 'Favorite_Hearts', 'Updates']"
   ]
  },
  {
   "cell_type": "code",
   "execution_count": 100,
   "metadata": {},
   "outputs": [
    {
     "name": "stdout",
     "output_type": "stream",
     "text": [
      "GenderFM GenderFM (0.9999999999999984, 0.0)\n",
      "GenderFM GroupPictureGS (-0.06711116520703048, 0.07015106914373972)\n",
      "GenderFM AgeCA (-0.05914223242160348, 0.11060118139681836)\n",
      "GenderFM StatusPN (0.013324635393248019, 0.7194726067655284)\n",
      "GenderFM Position (-0.06531024163272389, 0.07803006685181886)\n",
      "GenderFM Amount_Raised (0.0588705673047963, 0.11225123480305862)\n",
      "GenderFM Goal (0.03704599857045965, 0.31785844390050083)\n",
      "GenderFM Donators_Number (-0.008397644181529332, 0.8209282041564991)\n",
      "GenderFM Length_of_Fundraising (0.014376385722605047, 0.6983739891091966)\n",
      "GenderFM Facebook_Shares (0.015898937782667592, 0.6682421760573038)\n",
      "GenderFM Favorite_Hearts (-0.006040990517747843, 0.870653599209078)\n",
      "GenderFM Updates (0.03316977016082409, 0.3711651261400536)\n",
      "GroupPictureGS GroupPictureGS (0.9999999999999996, 0.0)\n",
      "GroupPictureGS AgeCA (0.20917517081979436, 1.1895061226040269e-08)\n",
      "GroupPictureGS StatusPN (-0.16301959594920826, 9.706960315698647e-06)\n",
      "GroupPictureGS Position (-0.0787807211631717, 0.033442061867261307)\n",
      "GroupPictureGS Amount_Raised (0.06490119647589904, 0.0799163239839293)\n",
      "GroupPictureGS Goal (0.06447262591866393, 0.08193211831450634)\n",
      "GroupPictureGS Donators_Number (0.1477423606932254, 6.222970999292699e-05)\n",
      "GroupPictureGS Length_of_Fundraising (-0.027026484283022206, 0.46624885535826394)\n",
      "GroupPictureGS Facebook_Shares (0.09690247308730096, 0.008843629864602517)\n",
      "GroupPictureGS Favorite_Hearts (0.144581657382237, 8.943207576995958e-05)\n",
      "GroupPictureGS Updates (0.059680518994766445, 0.10738821833537518)\n",
      "AgeCA AgeCA (0.9999999999999996, 0.0)\n",
      "AgeCA StatusPN (-0.13403225069808644, 0.0002844689912664501)\n",
      "AgeCA Position (-0.03433129080222816, 0.3546398285289547)\n",
      "AgeCA Amount_Raised (-0.0031582761133688328, 0.9321601586835057)\n",
      "AgeCA Goal (-0.05948673267091497, 0.1085362974249477)\n",
      "AgeCA Donators_Number (0.10969505932081412, 0.003020557560885441)\n",
      "AgeCA Length_of_Fundraising (-0.020165253925390175, 0.5867285880133217)\n",
      "AgeCA Facebook_Shares (0.1021336495594385, 0.005778418724771414)\n",
      "AgeCA Favorite_Hearts (0.11840778476742427, 0.0013609955352677993)\n",
      "AgeCA Updates (0.09844367556017142, 0.007816816053355722)\n",
      "StatusPN StatusPN (0.9999999999999964, 0.0)\n",
      "StatusPN Position (0.058257080388518, 0.11604871478508137)\n",
      "StatusPN Amount_Raised (-0.02174237746872179, 0.5578042239340064)\n",
      "StatusPN Goal (-0.03314332225173948, 0.3715468773594254)\n",
      "StatusPN Donators_Number (-0.1597560187638563, 1.4650756916674883e-05)\n",
      "StatusPN Length_of_Fundraising (-0.030145431274345692, 0.4163816921976137)\n",
      "StatusPN Facebook_Shares (-0.10762204664040458, 0.003622824569658665)\n",
      "StatusPN Favorite_Hearts (-0.16020306055430197, 1.385409417486356e-05)\n",
      "StatusPN Updates (-0.0953371233125613, 0.010007971387194491)\n",
      "Position Position (1.0, 0.0)\n",
      "Position Amount_Raised (-0.7778804822434773, 8.008985167779845e-149)\n",
      "Position Goal (-0.37773105264954593, 3.8695318158233294e-26)\n",
      "Position Donators_Number (-0.47919508035724445, 4.019557475157506e-43)\n",
      "Position Length_of_Fundraising (-0.02479418537054361, 0.5038802264818657)\n",
      "Position Facebook_Shares (-0.2953412875592579, 3.860441411487274e-16)\n",
      "Position Favorite_Hearts (-0.4684584524982894, 4.844528494562467e-41)\n",
      "Position Updates (-0.05954690743719832, 0.1081787616779771)\n",
      "Amount_Raised Amount_Raised (0.9999999999999993, 0.0)\n",
      "Amount_Raised Goal (0.43173157100579385, 1.8584330396055115e-34)\n",
      "Amount_Raised Donators_Number (0.6814444120553875, 1.203186052462197e-100)\n",
      "Amount_Raised Length_of_Fundraising (-0.012551932902731901, 0.7351115424542269)\n",
      "Amount_Raised Facebook_Shares (0.4244918847295566, 2.9825654790779046e-33)\n",
      "Amount_Raised Favorite_Hearts (0.6687279181637173, 1.1731938729667632e-95)\n",
      "Amount_Raised Updates (0.024529142751804407, 0.5084521016792429)\n",
      "Goal Goal (1.0, 0.0)\n",
      "Goal Donators_Number (0.3100775522518222, 1.0362963218653656e-17)\n",
      "Goal Length_of_Fundraising (-0.07010567153494235, 0.05849988645987859)\n",
      "Goal Facebook_Shares (0.15940936294048086, 1.5298337252614058e-05)\n",
      "Goal Favorite_Hearts (0.2964580315047751, 2.955987320130737e-16)\n",
      "Goal Updates (0.010385300346235034, 0.7795316110570122)\n",
      "Donators_Number Donators_Number (1.0, 0.0)\n",
      "Donators_Number Length_of_Fundraising (0.06817005840339116, 0.06583089129798203)\n",
      "Donators_Number Facebook_Shares (0.6204711915202566, 8.658421635936577e-79)\n",
      "Donators_Number Favorite_Hearts (0.997377208301549, 0.0)\n",
      "Donators_Number Updates (0.07449032987196527, 0.04436968111014677)\n",
      "Length_of_Fundraising Length_of_Fundraising (1.0, 0.0)\n",
      "Length_of_Fundraising Facebook_Shares (-0.009385108123745928, 0.8002924378880008)\n",
      "Length_of_Fundraising Favorite_Hearts (0.06553121070052303, 0.0770262438861719)\n",
      "Length_of_Fundraising Updates (0.12056600360163051, 0.0011078506419787628)\n",
      "Facebook_Shares Facebook_Shares (1.0, 0.0)\n",
      "Facebook_Shares Favorite_Hearts (0.6300485057829602, 6.703023170599656e-82)\n",
      "Facebook_Shares Updates (0.1677954207707454, 5.237684187412264e-06)\n",
      "Favorite_Hearts Favorite_Hearts (1.0, 0.0)\n",
      "Favorite_Hearts Updates (0.07079525440704866, 0.05605736000540446)\n",
      "Updates Updates (1.0, 0.0)\n"
     ]
    }
   ],
   "source": [
    "for l in range(len(lable)):\n",
    "    for n in range(len(lable)):\n",
    "        try:\n",
    "            corrP = stats.pearsonr(mc_data[lable[l]],mc_data[lable[l+n]])\n",
    "            print(lable[l], lable[l+n], corrP)\n",
    "        except:\n",
    "            pass"
   ]
  },
  {
   "cell_type": "code",
   "execution_count": 19,
   "metadata": {},
   "outputs": [
    {
     "data": {
      "image/png": "[encoded data removed]",
      "text/plain": [
       "<Figure size 288x288 with 2 Axes>"
      ]
     },
     "metadata": {
      "needs_background": "light"
     },
     "output_type": "display_data"
    }
   ],
   "source": [
    "# Correlation Plot\n",
    "corrPlot = plt.matshow(corr)\n",
    "groups = ['Gender', 'GroupPicture', 'Age', 'Status', 'Position', 'Amount Raised', 'Goal', 'Donators Number', 'Length of Fundraising', 'Facebook Shares', 'Favorite Hearts', 'Updates', 'Target']\n",
    "x_pos = np.arange(len(groups))\n",
    "plt.xticks(x_pos, groups, rotation='vertical')\n",
    "y_pos = np.arange(len(groups))\n",
    "plt.yticks(y_pos, groups)\n",
    "\n",
    "collorBar = plt.colorbar(corrPlot, fraction=0.046, pad=0.04) \n",
    "plt.show()"
   ]
  },
  {
   "cell_type": "markdown",
   "metadata": {},
   "source": [
    "# Classification"
   ]
  },
  {
   "cell_type": "code",
   "execution_count": 20,
   "metadata": {},
   "outputs": [],
   "source": [
    "from sklearn.metrics import f1_score\n",
    "from sklearn.metrics import log_loss"
   ]
  },
  {
   "cell_type": "markdown",
   "metadata": {},
   "source": [
    "## K Nearest Neighbor(KNN)"
   ]
  },
  {
   "cell_type": "code",
   "execution_count": 21,
   "metadata": {},
   "outputs": [],
   "source": [
    "from sklearn.model_selection import train_test_split\n",
    "from sklearn.neighbors import KNeighborsClassifier"
   ]
  },
  {
   "cell_type": "markdown",
   "metadata": {},
   "source": [
    "### Model 1"
   ]
  },
  {
   "cell_type": "code",
   "execution_count": 22,
   "metadata": {},
   "outputs": [
    {
     "name": "stdout",
     "output_type": "stream",
     "text": [
      "Train set: (466, 6) (466,)\n",
      "Test set: (117, 6) (117,)\n"
     ]
    }
   ],
   "source": [
    "# Split the X into train and test to find the best k\n",
    "X_train, X_test, y_train, y_test = train_test_split(df1_train, df['Target'][0:583], test_size=0.2, random_state=4)\n",
    "print ('Train set:', X_train.shape,  y_train.shape)\n",
    "print ('Test set:', X_test.shape,  y_test.shape)"
   ]
  },
  {
   "cell_type": "code",
   "execution_count": 23,
   "metadata": {},
   "outputs": [
    {
     "data": {
      "text/plain": [
       "KNeighborsClassifier(n_neighbors=3)"
      ]
     },
     "execution_count": 23,
     "metadata": {},
     "output_type": "execute_result"
    }
   ],
   "source": [
    "# Modeling\n",
    "k = 3\n",
    "#Train Model and Predict  \n",
    "kNN_model = KNeighborsClassifier(n_neighbors=k).fit(X_train,y_train)\n",
    "kNN_model"
   ]
  },
  {
   "cell_type": "code",
   "execution_count": 24,
   "metadata": {},
   "outputs": [
    {
     "data": {
      "text/plain": [
       "array([0.74358974, 0.76923077, 0.74358974, 0.81196581, 0.79487179,\n",
       "       0.8034188 , 0.8034188 , 0.81196581, 0.8034188 , 0.81196581,\n",
       "       0.82051282, 0.8034188 , 0.8034188 , 0.81196581])"
      ]
     },
     "execution_count": 24,
     "metadata": {},
     "output_type": "execute_result"
    }
   ],
   "source": [
    "# Best k\n",
    "Ks=15\n",
    "mean_acc=np.zeros((Ks-1))\n",
    "std_acc=np.zeros((Ks-1))\n",
    "ConfustionMx=[];\n",
    "for n in range(1,Ks):\n",
    "    \n",
    "    #Train Model and Predict  \n",
    "    kNN_model = KNeighborsClassifier(n_neighbors=n).fit(X_train,y_train)\n",
    "    yhat = kNN_model.predict(X_test)\n",
    "    \n",
    "    \n",
    "    mean_acc[n-1]=np.mean(yhat==y_test);\n",
    "    \n",
    "    std_acc[n-1]=np.std(yhat==y_test)/np.sqrt(yhat.shape[0])\n",
    "mean_acc"
   ]
  },
  {
   "cell_type": "code",
   "execution_count": 25,
   "metadata": {},
   "outputs": [
    {
     "data": {
      "text/plain": [
       "KNeighborsClassifier(n_neighbors=4)"
      ]
     },
     "execution_count": 25,
     "metadata": {},
     "output_type": "execute_result"
    }
   ],
   "source": [
    "# Building the model again, using k=4\n",
    "from sklearn.neighbors import KNeighborsClassifier\n",
    "k = 4\n",
    "#Train Model and Predict  \n",
    "kNN_model = KNeighborsClassifier(n_neighbors=k).fit(X_train,y_train)\n",
    "kNN_model"
   ]
  },
  {
   "cell_type": "code",
   "execution_count": 26,
   "metadata": {},
   "outputs": [
    {
     "name": "stdout",
     "output_type": "stream",
     "text": [
      "KNN F1-score: 0.81\n"
     ]
    }
   ],
   "source": [
    "knn_yhat = kNN_model.predict(df1_test)\n",
    "print(\"KNN F1-score: %.2f\" % f1_score(df['Target'][583:], knn_yhat, average='weighted') )"
   ]
  },
  {
   "cell_type": "markdown",
   "metadata": {},
   "source": [
    "### Model 2"
   ]
  },
  {
   "cell_type": "code",
   "execution_count": 27,
   "metadata": {},
   "outputs": [
    {
     "name": "stdout",
     "output_type": "stream",
     "text": [
      "Train set: (466, 5) (466,)\n",
      "Test set: (117, 5) (117,)\n"
     ]
    }
   ],
   "source": [
    "# Split the X into train and test to find the best k\n",
    "X_train, X_test, y_train, y_test = train_test_split(df2_train, df['Target'][0:583], test_size=0.2, random_state=4)\n",
    "print ('Train set:', X_train.shape,  y_train.shape)\n",
    "print ('Test set:', X_test.shape,  y_test.shape)"
   ]
  },
  {
   "cell_type": "code",
   "execution_count": 28,
   "metadata": {},
   "outputs": [
    {
     "data": {
      "text/plain": [
       "KNeighborsClassifier(n_neighbors=3)"
      ]
     },
     "execution_count": 28,
     "metadata": {},
     "output_type": "execute_result"
    }
   ],
   "source": [
    "# Modeling\n",
    "k = 3\n",
    "#Train Model and Predict  \n",
    "kNN_model = KNeighborsClassifier(n_neighbors=k).fit(X_train,y_train)\n",
    "kNN_model"
   ]
  },
  {
   "cell_type": "code",
   "execution_count": 29,
   "metadata": {},
   "outputs": [
    {
     "data": {
      "text/plain": [
       "array([0.63247863, 0.7008547 , 0.64957265, 0.68376068, 0.60683761,\n",
       "       0.65811966, 0.60683761, 0.64102564, 0.63247863, 0.69230769,\n",
       "       0.64102564, 0.67521368, 0.65811966, 0.69230769])"
      ]
     },
     "execution_count": 29,
     "metadata": {},
     "output_type": "execute_result"
    }
   ],
   "source": [
    "# Best k\n",
    "Ks=15\n",
    "mean_acc=np.zeros((Ks-1))\n",
    "std_acc=np.zeros((Ks-1))\n",
    "ConfustionMx=[];\n",
    "for n in range(1,Ks):\n",
    "    \n",
    "    #Train Model and Predict  \n",
    "    kNN_model = KNeighborsClassifier(n_neighbors=n).fit(X_train,y_train)\n",
    "    yhat = kNN_model.predict(X_test)\n",
    "    \n",
    "    \n",
    "    mean_acc[n-1]=np.mean(yhat==y_test);\n",
    "    \n",
    "    std_acc[n-1]=np.std(yhat==y_test)/np.sqrt(yhat.shape[0])\n",
    "mean_acc"
   ]
  },
  {
   "cell_type": "code",
   "execution_count": 30,
   "metadata": {},
   "outputs": [
    {
     "data": {
      "text/plain": [
       "KNeighborsClassifier(n_neighbors=2)"
      ]
     },
     "execution_count": 30,
     "metadata": {},
     "output_type": "execute_result"
    }
   ],
   "source": [
    "# Building the model again, using k=2\n",
    "from sklearn.neighbors import KNeighborsClassifier\n",
    "k = 2\n",
    "#Train Model and Predict  \n",
    "kNN_model = KNeighborsClassifier(n_neighbors=k).fit(X_train,y_train)\n",
    "kNN_model"
   ]
  },
  {
   "cell_type": "code",
   "execution_count": 31,
   "metadata": {},
   "outputs": [
    {
     "name": "stdout",
     "output_type": "stream",
     "text": [
      "KNN F1-score: 0.16\n"
     ]
    }
   ],
   "source": [
    "knn_yhat = kNN_model.predict(df2_test)\n",
    "print(\"KNN F1-score: %.2f\" % f1_score(df['Target'][583:], knn_yhat, average='weighted') )"
   ]
  },
  {
   "cell_type": "markdown",
   "metadata": {},
   "source": [
    "### Model 3"
   ]
  },
  {
   "cell_type": "code",
   "execution_count": 32,
   "metadata": {},
   "outputs": [
    {
     "name": "stdout",
     "output_type": "stream",
     "text": [
      "Train set: (466, 41) (466,)\n",
      "Test set: (117, 41) (117,)\n"
     ]
    }
   ],
   "source": [
    "# Split the X into train and test to find the best k\n",
    "X_train, X_test, y_train, y_test = train_test_split(df3_train, df['Target'][0:583], test_size=0.2, random_state=4)\n",
    "print ('Train set:', X_train.shape,  y_train.shape)\n",
    "print ('Test set:', X_test.shape,  y_test.shape)"
   ]
  },
  {
   "cell_type": "code",
   "execution_count": 33,
   "metadata": {},
   "outputs": [
    {
     "data": {
      "text/plain": [
       "KNeighborsClassifier(n_neighbors=3)"
      ]
     },
     "execution_count": 33,
     "metadata": {},
     "output_type": "execute_result"
    }
   ],
   "source": [
    "# Modeling\n",
    "k = 3\n",
    "#Train Model and Predict  \n",
    "kNN_model = KNeighborsClassifier(n_neighbors=k).fit(X_train,y_train)\n",
    "kNN_model"
   ]
  },
  {
   "cell_type": "code",
   "execution_count": 34,
   "metadata": {},
   "outputs": [
    {
     "data": {
      "text/plain": [
       "array([0.85470085, 0.8974359 , 0.86324786, 0.87179487, 0.82905983,\n",
       "       0.83760684, 0.82051282, 0.8034188 , 0.81196581, 0.82051282,\n",
       "       0.82051282, 0.82051282, 0.82051282, 0.83760684])"
      ]
     },
     "execution_count": 34,
     "metadata": {},
     "output_type": "execute_result"
    }
   ],
   "source": [
    "# Best k\n",
    "Ks=15\n",
    "mean_acc=np.zeros((Ks-1))\n",
    "std_acc=np.zeros((Ks-1))\n",
    "ConfustionMx=[];\n",
    "for n in range(1,Ks):\n",
    "    \n",
    "    #Train Model and Predict  \n",
    "    kNN_model = KNeighborsClassifier(n_neighbors=n).fit(X_train,y_train)\n",
    "    yhat = kNN_model.predict(X_test)\n",
    "    \n",
    "    \n",
    "    mean_acc[n-1]=np.mean(yhat==y_test);\n",
    "    \n",
    "    std_acc[n-1]=np.std(yhat==y_test)/np.sqrt(yhat.shape[0])\n",
    "mean_acc"
   ]
  },
  {
   "cell_type": "code",
   "execution_count": 35,
   "metadata": {},
   "outputs": [
    {
     "data": {
      "text/plain": [
       "KNeighborsClassifier(n_neighbors=2)"
      ]
     },
     "execution_count": 35,
     "metadata": {},
     "output_type": "execute_result"
    }
   ],
   "source": [
    "# Building the model again, using k=2\n",
    "from sklearn.neighbors import KNeighborsClassifier\n",
    "k = 2\n",
    "#Train Model and Predict  \n",
    "kNN_model = KNeighborsClassifier(n_neighbors=k).fit(X_train,y_train)\n",
    "kNN_model"
   ]
  },
  {
   "cell_type": "code",
   "execution_count": 36,
   "metadata": {},
   "outputs": [
    {
     "name": "stdout",
     "output_type": "stream",
     "text": [
      "KNN F1-score: 0.75\n"
     ]
    }
   ],
   "source": [
    "knn_yhat = kNN_model.predict(df3_test)\n",
    "print(\"KNN F1-score: %.2f\" % f1_score(df['Target'][583:], knn_yhat, average='weighted') )"
   ]
  },
  {
   "cell_type": "markdown",
   "metadata": {},
   "source": [
    "## Decision Tree"
   ]
  },
  {
   "cell_type": "code",
   "execution_count": 37,
   "metadata": {},
   "outputs": [],
   "source": [
    "from sklearn.tree import DecisionTreeClassifier"
   ]
  },
  {
   "cell_type": "markdown",
   "metadata": {},
   "source": [
    "### Model 1"
   ]
  },
  {
   "cell_type": "code",
   "execution_count": 38,
   "metadata": {},
   "outputs": [
    {
     "data": {
      "text/plain": [
       "DecisionTreeClassifier(criterion='entropy', max_depth=4)"
      ]
     },
     "execution_count": 38,
     "metadata": {},
     "output_type": "execute_result"
    }
   ],
   "source": [
    "DT_model = DecisionTreeClassifier(criterion=\"entropy\", max_depth = 4)\n",
    "DT_model.fit(df1_train, df['Target'][0:583])\n",
    "DT_model"
   ]
  },
  {
   "cell_type": "code",
   "execution_count": 39,
   "metadata": {},
   "outputs": [
    {
     "data": {
      "text/plain": [
       "0.8542024013722127"
      ]
     },
     "execution_count": 39,
     "metadata": {},
     "output_type": "execute_result"
    }
   ],
   "source": [
    "yhat = DT_model.predict(df1_train)\n",
    "mean_acc = np.mean(yhat==df['Target'][0:583])\n",
    "mean_acc"
   ]
  },
  {
   "cell_type": "code",
   "execution_count": 40,
   "metadata": {},
   "outputs": [
    {
     "name": "stdout",
     "output_type": "stream",
     "text": [
      "DT F1-score: 0.85\n"
     ]
    }
   ],
   "source": [
    "DT_yhat = DT_model.predict(df1_test)\n",
    "print(\"DT F1-score: %.2f\" % f1_score(df['Target'][583:], DT_yhat, average='weighted') )"
   ]
  },
  {
   "cell_type": "markdown",
   "metadata": {},
   "source": [
    "### Model 2"
   ]
  },
  {
   "cell_type": "code",
   "execution_count": 41,
   "metadata": {},
   "outputs": [
    {
     "data": {
      "text/plain": [
       "DecisionTreeClassifier(criterion='entropy', max_depth=4)"
      ]
     },
     "execution_count": 41,
     "metadata": {},
     "output_type": "execute_result"
    }
   ],
   "source": [
    "DT_model = DecisionTreeClassifier(criterion=\"entropy\", max_depth = 4)\n",
    "DT_model.fit(df2_train, df['Target'][0:583])\n",
    "DT_model"
   ]
  },
  {
   "cell_type": "code",
   "execution_count": 42,
   "metadata": {},
   "outputs": [
    {
     "data": {
      "text/plain": [
       "0.6981132075471698"
      ]
     },
     "execution_count": 42,
     "metadata": {},
     "output_type": "execute_result"
    }
   ],
   "source": [
    "yhat = DT_model.predict(df2_train)\n",
    "mean_acc = np.mean(yhat==df['Target'][0:583])\n",
    "mean_acc"
   ]
  },
  {
   "cell_type": "code",
   "execution_count": 43,
   "metadata": {},
   "outputs": [
    {
     "name": "stdout",
     "output_type": "stream",
     "text": [
      "DT F1-score: 0.37\n"
     ]
    }
   ],
   "source": [
    "DT_yhat = DT_model.predict(df2_test)\n",
    "print(\"DT F1-score: %.2f\" % f1_score(df['Target'][583:], DT_yhat, average='weighted') )"
   ]
  },
  {
   "cell_type": "markdown",
   "metadata": {},
   "source": [
    "### Model 3"
   ]
  },
  {
   "cell_type": "code",
   "execution_count": 44,
   "metadata": {},
   "outputs": [
    {
     "data": {
      "text/plain": [
       "DecisionTreeClassifier(criterion='entropy', max_depth=4)"
      ]
     },
     "execution_count": 44,
     "metadata": {},
     "output_type": "execute_result"
    }
   ],
   "source": [
    "DT_model = DecisionTreeClassifier(criterion=\"entropy\", max_depth = 4)\n",
    "DT_model.fit(df3_train, df['Target'][0:583])\n",
    "DT_model"
   ]
  },
  {
   "cell_type": "code",
   "execution_count": 45,
   "metadata": {},
   "outputs": [
    {
     "data": {
      "text/plain": [
       "0.9279588336192109"
      ]
     },
     "execution_count": 45,
     "metadata": {},
     "output_type": "execute_result"
    }
   ],
   "source": [
    "yhat = DT_model.predict(df3_train)\n",
    "mean_acc = np.mean(yhat==df['Target'][0:583])\n",
    "mean_acc"
   ]
  },
  {
   "cell_type": "code",
   "execution_count": 46,
   "metadata": {},
   "outputs": [
    {
     "name": "stdout",
     "output_type": "stream",
     "text": [
      "DT F1-score: 0.86\n"
     ]
    }
   ],
   "source": [
    "DT_yhat = DT_model.predict(df3_test)\n",
    "print(\"DT F1-score: %.2f\" % f1_score(df['Target'][583:], DT_yhat, average='weighted') )"
   ]
  },
  {
   "cell_type": "markdown",
   "metadata": {},
   "source": [
    "## Support Vector Machine"
   ]
  },
  {
   "cell_type": "code",
   "execution_count": 47,
   "metadata": {},
   "outputs": [],
   "source": [
    "from sklearn import svm"
   ]
  },
  {
   "cell_type": "markdown",
   "metadata": {},
   "source": [
    "### Model 1"
   ]
  },
  {
   "cell_type": "code",
   "execution_count": 48,
   "metadata": {},
   "outputs": [
    {
     "data": {
      "text/plain": [
       "SVC()"
      ]
     },
     "execution_count": 48,
     "metadata": {},
     "output_type": "execute_result"
    }
   ],
   "source": [
    "SVM_model = svm.SVC()\n",
    "SVM_model.fit(df1_train, df['Target'][0:583]) "
   ]
  },
  {
   "cell_type": "code",
   "execution_count": 49,
   "metadata": {},
   "outputs": [
    {
     "data": {
      "text/plain": [
       "0.8284734133790738"
      ]
     },
     "execution_count": 49,
     "metadata": {},
     "output_type": "execute_result"
    }
   ],
   "source": [
    "yhat = SVM_model.predict(df1_train)\n",
    "mean_acc = np.mean(yhat==df['Target'][0:583])\n",
    "mean_acc"
   ]
  },
  {
   "cell_type": "code",
   "execution_count": 50,
   "metadata": {},
   "outputs": [
    {
     "name": "stdout",
     "output_type": "stream",
     "text": [
      "SVM F1-score: 0.81\n"
     ]
    }
   ],
   "source": [
    "SVM_yhat = SVM_model.predict(df1_test)\n",
    "print(\"SVM F1-score: %.2f\" % f1_score(df['Target'][583:], SVM_yhat, average='weighted') )"
   ]
  },
  {
   "cell_type": "markdown",
   "metadata": {},
   "source": [
    "### Model 2"
   ]
  },
  {
   "cell_type": "code",
   "execution_count": 51,
   "metadata": {},
   "outputs": [
    {
     "data": {
      "text/plain": [
       "SVC()"
      ]
     },
     "execution_count": 51,
     "metadata": {},
     "output_type": "execute_result"
    }
   ],
   "source": [
    "SVM_model = svm.SVC()\n",
    "SVM_model.fit(df2_train, df['Target'][0:583]) "
   ]
  },
  {
   "cell_type": "code",
   "execution_count": 52,
   "metadata": {},
   "outputs": [
    {
     "data": {
      "text/plain": [
       "0.6689536878216124"
      ]
     },
     "execution_count": 52,
     "metadata": {},
     "output_type": "execute_result"
    }
   ],
   "source": [
    "yhat = SVM_model.predict(df2_train)\n",
    "mean_acc = np.mean(yhat==df['Target'][0:583])\n",
    "mean_acc"
   ]
  },
  {
   "cell_type": "code",
   "execution_count": 53,
   "metadata": {},
   "outputs": [
    {
     "name": "stdout",
     "output_type": "stream",
     "text": [
      "SVM F1-score: 0.54\n"
     ]
    }
   ],
   "source": [
    "SVM_yhat = SVM_model.predict(df2_test)\n",
    "print(\"SVM F1-score: %.2f\" % f1_score(df['Target'][583:], SVM_yhat, average='weighted') )"
   ]
  },
  {
   "cell_type": "markdown",
   "metadata": {},
   "source": [
    "### Model 3"
   ]
  },
  {
   "cell_type": "code",
   "execution_count": 54,
   "metadata": {},
   "outputs": [
    {
     "data": {
      "text/plain": [
       "SVC()"
      ]
     },
     "execution_count": 54,
     "metadata": {},
     "output_type": "execute_result"
    }
   ],
   "source": [
    "SVM_model = svm.SVC()\n",
    "SVM_model.fit(df3_train, df['Target'][0:583]) "
   ]
  },
  {
   "cell_type": "code",
   "execution_count": 55,
   "metadata": {},
   "outputs": [
    {
     "data": {
      "text/plain": [
       "0.7530017152658662"
      ]
     },
     "execution_count": 55,
     "metadata": {},
     "output_type": "execute_result"
    }
   ],
   "source": [
    "yhat = SVM_model.predict(df3_train)\n",
    "mean_acc = np.mean(yhat==df['Target'][0:583])\n",
    "mean_acc"
   ]
  },
  {
   "cell_type": "code",
   "execution_count": 56,
   "metadata": {},
   "outputs": [
    {
     "name": "stdout",
     "output_type": "stream",
     "text": [
      "SVM F1-score: 0.69\n"
     ]
    }
   ],
   "source": [
    "SVM_yhat = SVM_model.predict(df3_test)\n",
    "print(\"SVM F1-score: %.2f\" % f1_score(df['Target'][583:], SVM_yhat, average='weighted') )"
   ]
  },
  {
   "cell_type": "markdown",
   "metadata": {},
   "source": [
    "## Logistic Regression"
   ]
  },
  {
   "cell_type": "code",
   "execution_count": 57,
   "metadata": {},
   "outputs": [],
   "source": [
    "from sklearn.linear_model import LogisticRegression"
   ]
  },
  {
   "cell_type": "markdown",
   "metadata": {},
   "source": [
    "### Model 1"
   ]
  },
  {
   "cell_type": "code",
   "execution_count": 58,
   "metadata": {},
   "outputs": [
    {
     "data": {
      "text/plain": [
       "LogisticRegression(C=0.01)"
      ]
     },
     "execution_count": 58,
     "metadata": {},
     "output_type": "execute_result"
    }
   ],
   "source": [
    "LR_model = LogisticRegression(C=0.01).fit(df1_train, df['Target'][0:583])\n",
    "LR_model"
   ]
  },
  {
   "cell_type": "code",
   "execution_count": 59,
   "metadata": {},
   "outputs": [
    {
     "data": {
      "text/plain": [
       "0.7890222984562607"
      ]
     },
     "execution_count": 59,
     "metadata": {},
     "output_type": "execute_result"
    }
   ],
   "source": [
    "yhat = LR_model.predict(df1_train)\n",
    "mean_acc = np.mean(yhat==df['Target'][0:583])\n",
    "mean_acc"
   ]
  },
  {
   "cell_type": "code",
   "execution_count": 60,
   "metadata": {},
   "outputs": [
    {
     "name": "stdout",
     "output_type": "stream",
     "text": [
      "LR F1-score: 0.80\n",
      "LR LogLoss: 0.40\n"
     ]
    }
   ],
   "source": [
    "LR_yhat = LR_model.predict(df1_test)\n",
    "LR_yhat_prob = LR_model.predict_proba(df1_test)\n",
    "print(\"LR F1-score: %.2f\" % f1_score(df['Target'][583:], LR_yhat, average='weighted') )\n",
    "print(\"LR LogLoss: %.2f\" % log_loss(df['Target'][583:], LR_yhat_prob))"
   ]
  },
  {
   "cell_type": "markdown",
   "metadata": {},
   "source": [
    "### Model 2"
   ]
  },
  {
   "cell_type": "code",
   "execution_count": 61,
   "metadata": {},
   "outputs": [
    {
     "data": {
      "text/plain": [
       "LogisticRegression(C=0.01)"
      ]
     },
     "execution_count": 61,
     "metadata": {},
     "output_type": "execute_result"
    }
   ],
   "source": [
    "LR_model = LogisticRegression(C=0.01).fit(df2_train, df['Target'][0:583])\n",
    "LR_model"
   ]
  },
  {
   "cell_type": "code",
   "execution_count": 62,
   "metadata": {},
   "outputs": [
    {
     "data": {
      "text/plain": [
       "0.6689536878216124"
      ]
     },
     "execution_count": 62,
     "metadata": {},
     "output_type": "execute_result"
    }
   ],
   "source": [
    "yhat = LR_model.predict(df2_train)\n",
    "mean_acc = np.mean(yhat==df['Target'][0:583])\n",
    "mean_acc"
   ]
  },
  {
   "cell_type": "code",
   "execution_count": 63,
   "metadata": {},
   "outputs": [
    {
     "name": "stdout",
     "output_type": "stream",
     "text": [
      "LR F1-score: 0.54\n",
      "LR LogLoss: 0.63\n"
     ]
    }
   ],
   "source": [
    "LR_yhat = LR_model.predict(df2_test)\n",
    "LR_yhat_prob = LR_model.predict_proba(df2_test)\n",
    "print(\"LR F1-score: %.2f\" % f1_score(df['Target'][583:], LR_yhat, average='weighted') )\n",
    "print(\"LR LogLoss: %.2f\" % log_loss(df['Target'][583:], LR_yhat_prob))"
   ]
  },
  {
   "cell_type": "markdown",
   "metadata": {},
   "source": [
    "### Model 3"
   ]
  },
  {
   "cell_type": "code",
   "execution_count": 64,
   "metadata": {},
   "outputs": [
    {
     "name": "stderr",
     "output_type": "stream",
     "text": [
      "c:\\users\\shiran guo\\python\\lib\\site-packages\\sklearn\\linear_model\\_logistic.py:762: ConvergenceWarning: lbfgs failed to converge (status=1):\n",
      "STOP: TOTAL NO. of ITERATIONS REACHED LIMIT.\n",
      "\n",
      "Increase the number of iterations (max_iter) or scale the data as shown in:\n",
      "    https://scikit-learn.org/stable/modules/preprocessing.html\n",
      "Please also refer to the documentation for alternative solver options:\n",
      "    https://scikit-learn.org/stable/modules/linear_model.html#logistic-regression\n",
      "  n_iter_i = _check_optimize_result(\n"
     ]
    },
    {
     "data": {
      "text/plain": [
       "LogisticRegression(C=0.01)"
      ]
     },
     "execution_count": 64,
     "metadata": {},
     "output_type": "execute_result"
    }
   ],
   "source": [
    "LR_model = LogisticRegression(C=0.01).fit(df3_train, df['Target'][0:583])\n",
    "LR_model"
   ]
  },
  {
   "cell_type": "code",
   "execution_count": 65,
   "metadata": {},
   "outputs": [
    {
     "data": {
      "text/plain": [
       "0.7787307032590052"
      ]
     },
     "execution_count": 65,
     "metadata": {},
     "output_type": "execute_result"
    }
   ],
   "source": [
    "yhat = LR_model.predict(df3_train)\n",
    "mean_acc = np.mean(yhat==df['Target'][0:583])\n",
    "mean_acc"
   ]
  },
  {
   "cell_type": "code",
   "execution_count": 66,
   "metadata": {},
   "outputs": [
    {
     "name": "stdout",
     "output_type": "stream",
     "text": [
      "LR F1-score: 0.79\n",
      "LR LogLoss: 0.39\n"
     ]
    }
   ],
   "source": [
    "LR_yhat = LR_model.predict(df3_test)\n",
    "LR_yhat_prob = LR_model.predict_proba(df3_test)\n",
    "print(\"LR F1-score: %.2f\" % f1_score(df['Target'][583:], LR_yhat, average='weighted') )\n",
    "print(\"LR LogLoss: %.2f\" % log_loss(df['Target'][583:], LR_yhat_prob))"
   ]
  }
 ],
 "metadata": {
  "kernelspec": {
   "display_name": "Python 3",
   "language": "python",
   "name": "python3"
  },
  "language_info": {
   "codemirror_mode": {
    "name": "ipython",
    "version": 3
   },
   "file_extension": ".py",
   "mimetype": "text/x-python",
   "name": "python",
   "nbconvert_exporter": "python",
   "pygments_lexer": "ipython3",
   "version": "3.8.3"
  }
 },
 "nbformat": 4,
 "nbformat_minor": 4
}
